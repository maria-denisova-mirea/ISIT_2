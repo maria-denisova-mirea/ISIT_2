{
 "cells": [
  {
   "cell_type": "markdown",
   "metadata": {},
   "source": [
    "Подключаем необходимые в работе библиотеки/модули: json (для работы с json-форматом данных), pandas (для работы с табличными данными), requests (для работы с HTTP-запросами), matplotlib.pyplot (для создания графиков и визуализации данных), networkx (для создания, манипуляции и изучения структуры, динамики и функций сложных сетей), random (для генерации случайных чисел и выполнения случайных операций):"
   ]
  },
  {
   "cell_type": "code",
   "execution_count": null,
   "metadata": {},
   "outputs": [],
   "source": [
    "import json\n",
    "import pandas as pd\n",
    "import requests\n",
    "import matplotlib.pyplot as plt\n",
    "import networkx as nx\n",
    "import random"
   ]
  },
  {
   "cell_type": "markdown",
   "metadata": {},
   "source": [
    "Создаём класс \"vk_user\", атрибутами которого станут ID пользователя, его ФИО и список его друзей (их ID). Также задаём метод для представления данных в формате, удобном для сериализации в JSON:"
   ]
  },
  {
   "cell_type": "code",
   "execution_count": null,
   "metadata": {},
   "outputs": [],
   "source": [
    "class vk_user:\n",
    "    def __init__(self, vk_id, name, friends):\n",
    "        self.vk_id = vk_id\n",
    "        self.name = name\n",
    "        self.friends = friends\n",
    "\n",
    "    def to_dict(self):\n",
    "        return {\n",
    "            'vk_id': self.vk_id,\n",
    "            'name': self.name,\n",
    "            'friends': self.friends\n",
    "        }"
   ]
  },
  {
   "cell_type": "markdown",
   "metadata": {},
   "source": [
    "Определяем статический метод, который принимает аргумент, представляющий собой словарь. А также задаём функции для cериализации данных в формате JSON и десериализации JSON в объекты Python:"
   ]
  },
  {
   "cell_type": "code",
   "execution_count": null,
   "metadata": {},
   "outputs": [],
   "source": [
    "@staticmethod\n",
    "def from_dict(data):\n",
    "    return vk_user(vk_id=data['vk_id'], name=data['name'], friends=data['friends'])\n",
    "    \n",
    "\n",
    "def save_data_to_json_file(friend_list, filename):\n",
    "    with open(filename, 'w') as file:\n",
    "        json.dump([fl.to_dict() for fl in friend_list], file)\n",
    "\n",
    "def load_data_from_json_file(filename):\n",
    "    with open(filename, 'r') as file:\n",
    "        data = json.load(file)\n",
    "        return [vk_user.from_dict(f) for f in data]"
   ]
  },
  {
   "cell_type": "markdown",
   "metadata": {},
   "source": [
    "В список \"users\" запишем данные из CSV-файла \"BSMO_10_24\" (удалив строки с пустыми значениями):"
   ]
  },
  {
   "cell_type": "code",
   "execution_count": null,
   "metadata": {},
   "outputs": [],
   "source": [
    "users = []\n",
    "\n",
    "df = pd.read_csv(\"BSMO_10_24.csv\")\n",
    "df.columns = [\"name\", \"vk_link\", \"id\"]\n",
    "df = df.dropna()\n",
    "df['id'] = df['id'].astype(int).astype(str)\n",
    "\n",
    "for index, row in df.iterrows():\n",
    "    users.append(vk_user(row[\"id\"], row[\"name\"], None))"
   ]
  },
  {
   "cell_type": "markdown",
   "metadata": {},
   "source": [
    "Поскольку необходимо найти друзей и друзей-друзей пользователя, а также установить между всеми наличие дружеских связей (в т.ч. и между друзьями-друзей), то ставим глубину поиска равную трём, не забыв ограничить круг поиска до ста друзей на одного человека (для адекватной визуализации графа):"
   ]
  },
  {
   "cell_type": "code",
   "execution_count": null,
   "metadata": {},
   "outputs": [],
   "source": [
    "deep = 3\n",
    "max = 100"
   ]
  },
  {
   "cell_type": "markdown",
   "metadata": {},
   "source": [
    "Циклом проходимся по пользователям из списка \"users\", используя для выгрузки необходимых данных хранимую процедуру в VK – \"friends.get\". За первый проход будет найден список друзей и соотвествующие дружеские связи, за второй проход — список друзей-друзей и соотвествующие дружеские связи, а третий проход лишь установит наличие дружеских связей друзей-друзей с остальными:"
   ]
  },
  {
   "cell_type": "code",
   "execution_count": null,
   "metadata": {},
   "outputs": [],
   "source": [
    "for d in range(deep):\n",
    "    new_users = []\n",
    "    for user in users:\n",
    "        if user.friends == None:\n",
    "            url = f'https://api.vk.com/method/friends.get?user_id={user.vk_id}&&v=5.199'\n",
    "            response = requests.get(url)\n",
    "            if 'response' not in response.json():\n",
    "                continue\n",
    "            friends = response.json()['response']['items']\n",
    "            for i in range(len(friends)):\n",
    "                friend = friends[i]\n",
    "                if i >= max:\n",
    "                    break\n",
    "                if any(person.vk_id == friend for person in users):\n",
    "                    if user.friends == None:\n",
    "                        user.friends = []\n",
    "                    user.friends.append(friend)\n",
    "                if d != 3 and all(person.vk_id != friend for person in users):\n",
    "                    new_users.append(vk_user(friend, None, None))\n",
    "    users.extend(new_users)"
   ]
  },
  {
   "cell_type": "markdown",
   "metadata": {},
   "source": [
    "Сохраняем данные о пользователях в файл \"friendships.json\", а затем, для дальнейшего построения графа, загружаем данные в переменную \"users\", наполняя её Python-объектами:"
   ]
  },
  {
   "cell_type": "code",
   "execution_count": null,
   "metadata": {},
   "outputs": [],
   "source": [
    "save_data_to_json_file(users, \"friendships.json\")\n",
    "\n",
    "users = load_data_from_json_file('friendships.json')"
   ]
  },
  {
   "cell_type": "markdown",
   "metadata": {},
   "source": [
    "Создаём пустой неориентированный граф \"G\":"
   ]
  },
  {
   "cell_type": "code",
   "execution_count": null,
   "metadata": {},
   "outputs": [],
   "source": [
    "G = nx.Graph()"
   ]
  },
  {
   "cell_type": "markdown",
   "metadata": {},
   "source": [
    "Циклом проходимся по каждому объекту в списке \"users\" (необходимы их ID) и добавляем вершины в граф \"G\":"
   ]
  },
  {
   "cell_type": "code",
   "execution_count": null,
   "metadata": {},
   "outputs": [],
   "source": [
    "for user in users:\n",
    "    G.add_node(user.vk_id)"
   ]
  },
  {
   "cell_type": "markdown",
   "metadata": {},
   "source": [
    "Проходясь циклом по всем друзьям VK-пользователей, добавляем рёбра между ними в графе:"
   ]
  },
  {
   "cell_type": "code",
   "execution_count": null,
   "metadata": {},
   "outputs": [],
   "source": [
    "for user in users:\n",
    "    if user.friends != None:\n",
    "        for friend_id in user.friends:\n",
    "            if G.has_edge(user.vk_id, friend_id):\n",
    "                continue\n",
    "            G.add_edge(user.vk_id, friend_id)"
   ]
  },
  {
   "cell_type": "markdown",
   "metadata": {},
   "source": [
    "Классифицируем вершины графа \"G\" по цветовым категориям в зависимости от заданных условий:\n",
    "1) red_nodes: вершины, соответствующие одногруппникам\n",
    "2) lightblue_nodes: вершины, соотвествующие пользователям с менее чем 2 друзьями\n",
    "3) skyblue_nodes: вершины, соотвествующие пользователям с менее чем 10 друзьями\n",
    "4) cornflowerblue_nodes: вершины, соотвествующие пользователям с менее чем 30 друзьями\n",
    "5) blue_nodes: вершины, соотвествующие пользователям с менее чем 50 друзьями\n",
    "6) darkblue_nodes: вершины, соотвествующие пользователям с 50 и более друзьями"
   ]
  },
  {
   "cell_type": "code",
   "execution_count": null,
   "metadata": {},
   "outputs": [],
   "source": [
    "red_nodes = [node for node in list(G.nodes()) if all(person.vk_id != node or person.name is not None for person in users)]\n",
    "other_nodes = list(set(G.nodes()) - set(red_nodes))\n",
    "lightblue_nodes = list(node for node in other_nodes if all(person.vk_id != node or person.friends is None or len(person.friends) < 2 for person in users))\n",
    "other_nodes = list(set(other_nodes) - set(lightblue_nodes))\n",
    "skyblue_nodes = list(node for node in other_nodes if all(person.vk_id != node or len(person.friends) < 10 for person in users))\n",
    "other_nodes = list(set(other_nodes) - set(skyblue_nodes))\n",
    "cornflowerblue_nodes = list(node for node in other_nodes if all(person.vk_id != node or len(person.friends) < 30 for person in users))\n",
    "other_nodes = list(set(other_nodes) - set(cornflowerblue_nodes))\n",
    "blue_nodes = list(node for node in other_nodes if all(person.vk_id != node or len(person.friends) < 50 for person in users))\n",
    "darkblue_nodes = list(set(other_nodes) - set(blue_nodes))"
   ]
  },
  {
   "cell_type": "markdown",
   "metadata": {},
   "source": [
    "Задаём цвета рёбер графа в разных оттенках чёрного (для лучшей визуализации связей в готовом графе):"
   ]
  },
  {
   "cell_type": "code",
   "execution_count": null,
   "metadata": {},
   "outputs": [],
   "source": [
    "edge_colors = ['lightgray', 'gray', 'darkgray', 'black']\n",
    "random_edge_colors = [random.choice(edge_colors) for _ in range(len(G.edges()))]"
   ]
  },
  {
   "cell_type": "markdown",
   "metadata": {},
   "source": [
    "Определим количество вершин и рёбер в графе \"G\": "
   ]
  },
  {
   "cell_type": "code",
   "execution_count": null,
   "metadata": {},
   "outputs": [],
   "source": [
    "print(f\"Количество вершин: {len(G.nodes())}\")\n",
    "print(f\"Количество рёбер: {len(G.edges())}\")"
   ]
  },
  {
   "cell_type": "markdown",
   "metadata": {},
   "source": [
    "Получили следующие значения: !(1157) вершин и !(4684) рёбер."
   ]
  },
  {
   "cell_type": "markdown",
   "metadata": {},
   "source": [
    "Визуализируем граф \"G\" (с использованием алгоритма Камада-Кавай), настроив размеры вершин (и рёбер) для выделенных ранее групп:"
   ]
  },
  {
   "cell_type": "code",
   "execution_count": null,
   "metadata": {},
   "outputs": [],
   "source": [
    "pos = nx.kamada_kawai_layout(G)\n",
    "nx.draw_networkx_nodes(G, pos, nodelist=red_nodes, node_color='red', node_size=20)\n",
    "nx.draw_networkx_nodes(G, pos, nodelist=lightblue_nodes, node_color='lightblue', node_size=3)\n",
    "nx.draw_networkx_nodes(G, pos, nodelist=skyblue_nodes, node_color='skyblue', node_size=6)\n",
    "nx.draw_networkx_nodes(G, pos, nodelist=cornflowerblue_nodes, node_color='deepskyblue', node_size=9)\n",
    "nx.draw_networkx_nodes(G, pos, nodelist=blue_nodes, node_color='blue', node_size=12)\n",
    "nx.draw_networkx_nodes(G, pos, nodelist=darkblue_nodes, node_color='darkblue', node_size=15)\n",
    "nx.draw_networkx_edges(G, pos, edge_color=random_edge_colors, width=0.4)"
   ]
  },
  {
   "cell_type": "markdown",
   "metadata": {},
   "source": [
    "Задаём параметры визуализации графа и сохраняем его в файл \"graph.png\":"
   ]
  },
  {
   "cell_type": "code",
   "execution_count": null,
   "metadata": {},
   "outputs": [],
   "source": [
    "plt.axis('off')\n",
    "plt.figure(figsize=(15, 12))\n",
    "plt.rcParams.update({'figure.dpi': 600})\n",
    "plt.savefig(\"graph.png\", dpi=600)"
   ]
  },
  {
   "cell_type": "markdown",
   "metadata": {},
   "source": [
    "В итоге получили следующий граф:"
   ]
  },
  {
   "cell_type": "markdown",
   "metadata": {},
   "source": [
    "![img](graph.png)"
   ]
  },
  {
   "cell_type": "markdown",
   "metadata": {},
   "source": [
    "Рассмотрим, какие виды центральности в графе используем в работе:\n",
    "1) Центральность по близости (closeness centrality) — определяет, насколько данная вершина близка ко всем остальным вершинам в сети (кратчайший путь).\n",
    "2) Центральность по посредничеству (betweenness centrality) — показывает, насколько часто рассматриваемая вершина является \"перевалочным пунктом\" при переходах от одной вершины графа до любой другой.\n",
    "3) Центральность по собственному вектору (eigenvector centrality) — демонстрирует зависимость между центральностью участника и центральностями его друзей. Принцип данной меры можно описать так: \"если мои друзья влиятельны, то и я буду более влиятельным\".\n",
    "4) Центральность по степени (degree centrality) — показывает, насколько важна конкретная вершина с точки зрения количества связей с другими вершинами в графе."
   ]
  },
  {
   "cell_type": "markdown",
   "metadata": {},
   "source": [
    "Вычислим центральность графа по близости, посредничеству, собственному значению и степени:"
   ]
  },
  {
   "cell_type": "code",
   "execution_count": null,
   "metadata": {},
   "outputs": [],
   "source": [
    "closeness_centrality_users = sorted(list(nx.closeness_centrality(G).items()), key=lambda i: i[1], reverse=True)\n",
    "betweenness_centrality_users = sorted(list(nx.betweenness_centrality(G).items()), key=lambda i: i[1], reverse=True)\n",
    "eigenvector_centrality_users = sorted(list(nx.eigenvector_centrality(G).items()), key=lambda i: i[1], reverse=True)\n",
    "degree_centrality_users = sorted(list(nx.degree_centrality(G).items()), key=lambda i: i[1], reverse=True)\n",
    "\n",
    "def print_central_student(students, way):\n",
    "    for ccu, metrica in students:\n",
    "        for user in users:\n",
    "            if user.vk_id == ccu and user.name is not None:\n",
    "                print(f\"Центральный студент в группе по {way}: {user.name} (центральность {metrica})\")\n",
    "                return\n",
    "\n",
    "print_central_student(closeness_centrality_users, \"близости\")\n",
    "print_central_student(betweenness_centrality_users, \"посредничеству\")\n",
    "print_central_student(eigenvector_centrality_users, \"собственному значению\")\n",
    "print_central_student(degree_centrality_users, \"степени\")"
   ]
  },
  {
   "cell_type": "markdown",
   "metadata": {},
   "source": [
    "В итоге получили следующие данные:\n",
    "1) Центральный студент в группе по близости — !(Лавренов Владислав Ильич (центральность 0.3381036960779018))\n",
    "2) Центральный студент в группе по посредничеству — !(Чиркова Мария Александровна (центральность 0.12213183971007534))\n",
    "3) Центральный студент в группе по собственному значению — !(Лавренов Владислав Ильич (центральность 0.2800489554172969))\n",
    "4) Центральный студент в группе по степени — !(Алабужев Даниил Андреевич (центральность 0.08650519031141869))"
   ]
  }
 ],
 "metadata": {
  "kernelspec": {
   "display_name": "Python 3",
   "language": "python",
   "name": "python3"
  },
  "language_info": {
   "codemirror_mode": {
    "name": "ipython",
    "version": 3
   },
   "file_extension": ".py",
   "mimetype": "text/x-python",
   "name": "python",
   "nbconvert_exporter": "python",
   "pygments_lexer": "ipython3",
   "version": "3.12.7"
  }
 },
 "nbformat": 4,
 "nbformat_minor": 2
}
